{
 "cells": [
  {
   "cell_type": "code",
   "execution_count": 2,
   "id": "176a7ca2",
   "metadata": {},
   "outputs": [
    {
     "name": "stdout",
     "output_type": "stream",
     "text": [
      "ola, mundo!\n"
     ]
    }
   ],
   "source": [
    "print (\"ola, mundo!\")"
   ]
  },
  {
   "cell_type": "code",
   "execution_count": 3,
   "id": "b9933fe9",
   "metadata": {},
   "outputs": [],
   "source": [
    "a = 7"
   ]
  },
  {
   "cell_type": "code",
   "execution_count": 4,
   "id": "bf140539",
   "metadata": {
    "scrolled": false
   },
   "outputs": [
    {
     "name": "stdout",
     "output_type": "stream",
     "text": [
      "0\n",
      "1\n",
      "2\n",
      "3\n",
      "4\n",
      "5\n",
      "6\n",
      "7\n",
      "8\n",
      "9\n"
     ]
    }
   ],
   "source": [
    "for i in range (0,10):\n",
    " print (i)"
   ]
  },
  {
   "cell_type": "code",
   "execution_count": 1,
   "id": "a87ddde4",
   "metadata": {},
   "outputs": [],
   "source": [
    "a = 2\n",
    "b = 7"
   ]
  },
  {
   "cell_type": "code",
   "execution_count": 2,
   "id": "4413e6c9",
   "metadata": {
    "scrolled": true
   },
   "outputs": [
    {
     "data": {
      "text/plain": [
       "True"
      ]
     },
     "execution_count": 2,
     "metadata": {},
     "output_type": "execute_result"
    }
   ],
   "source": [
    "a != b"
   ]
  },
  {
   "cell_type": "code",
   "execution_count": 3,
   "id": "f9fa56bf",
   "metadata": {},
   "outputs": [
    {
     "name": "stdout",
     "output_type": "stream",
     "text": [
      "a eh menor que b\n"
     ]
    }
   ],
   "source": [
    "if (a < b):\n",
    "    print (\"a eh menor que b\")\n",
    "else:\n",
    "    print (\"a eh maior que b\")"
   ]
  },
  {
   "cell_type": "code",
   "execution_count": 4,
   "id": "4c78bdaa",
   "metadata": {},
   "outputs": [],
   "source": [
    "x = [1,2,3,4,5,6]\n",
    "y = 5.0\n",
    "z = \"ola\"\n",
    "teste = [10,20,30,40,50,60]"
   ]
  },
  {
   "cell_type": "code",
   "execution_count": 5,
   "id": "ac76307a",
   "metadata": {},
   "outputs": [
    {
     "data": {
      "text/plain": [
       "(list, float, str, list)"
      ]
     },
     "execution_count": 5,
     "metadata": {},
     "output_type": "execute_result"
    }
   ],
   "source": [
    "type (x), type (y), type (z), type (teste)"
   ]
  },
  {
   "cell_type": "code",
   "execution_count": 6,
   "id": "066fbbe4",
   "metadata": {
    "scrolled": true
   },
   "outputs": [],
   "source": [
    "import matplotlib.pyplot as plt \n",
    "import numpy as np"
   ]
  },
  {
   "cell_type": "code",
   "execution_count": 7,
   "id": "3292e5ee",
   "metadata": {
    "scrolled": true
   },
   "outputs": [
    {
     "data": {
      "image/png": "[encoded data removed]",
      "text/plain": [
       "<Figure size 432x288 with 1 Axes>"
      ]
     },
     "metadata": {
      "needs_background": "light"
     },
     "output_type": "display_data"
    }
   ],
   "source": [
    "plt.plot(x,teste)\n",
    "plt.show()"
   ]
  },
  {
   "cell_type": "code",
   "execution_count": 8,
   "id": "216bf463",
   "metadata": {},
   "outputs": [
    {
     "name": "stdout",
     "output_type": "stream",
     "text": [
      "1\n",
      "2\n",
      "3\n",
      "4\n",
      "5\n"
     ]
    }
   ],
   "source": [
    "i = 1\n",
    "while (i < 6):\n",
    "    print (i)\n",
    "    i += 1 # i = i+1"
   ]
  },
  {
   "cell_type": "code",
   "execution_count": 9,
   "id": "9ddf7e24",
   "metadata": {},
   "outputs": [
    {
     "name": "stdout",
     "output_type": "stream",
     "text": [
      "1\n",
      "2\n",
      "3\n",
      "4\n"
     ]
    }
   ],
   "source": [
    "i = 1\n",
    "while (i <6):\n",
    " print (i)\n",
    " if (i == 4):\n",
    "    break\n",
    " i += 1"
   ]
  },
  {
   "cell_type": "code",
   "execution_count": 10,
   "id": "77aa72cf",
   "metadata": {},
   "outputs": [
    {
     "name": "stdout",
     "output_type": "stream",
     "text": [
      "0\n",
      "2\n",
      "4\n",
      "6\n",
      "8\n"
     ]
    }
   ],
   "source": [
    "for i in range (0,10,2):\n",
    "    print (i)"
   ]
  },
  {
   "cell_type": "code",
   "execution_count": 11,
   "id": "cccf5514",
   "metadata": {},
   "outputs": [
    {
     "data": {
      "text/plain": [
       "array([ 1.,  2.,  3.,  4.,  5.,  6.,  7.,  8.,  9., 10.])"
      ]
     },
     "execution_count": 11,
     "metadata": {},
     "output_type": "execute_result"
    }
   ],
   "source": [
    "np.linspace(1,10,10)"
   ]
  },
  {
   "cell_type": "code",
   "execution_count": 12,
   "id": "fe587082",
   "metadata": {},
   "outputs": [],
   "source": [
    "n = [1,2,3,4]\n",
    "n2 = np.matrix ([[1,0],\n",
    "                [0,1]])"
   ]
  },
  {
   "cell_type": "code",
   "execution_count": 13,
   "id": "dbc42e92",
   "metadata": {},
   "outputs": [
    {
     "data": {
      "text/plain": [
       "(list, numpy.matrix)"
      ]
     },
     "execution_count": 13,
     "metadata": {},
     "output_type": "execute_result"
    }
   ],
   "source": [
    "type (n), type (n2)"
   ]
  },
  {
   "cell_type": "code",
   "execution_count": 14,
   "id": "61265106",
   "metadata": {},
   "outputs": [],
   "source": [
    "import math\n",
    "import scipy"
   ]
  },
  {
   "cell_type": "code",
   "execution_count": 15,
   "id": "7372367c",
   "metadata": {},
   "outputs": [],
   "source": [
    "def func (x):\n",
    "    return np.sin(x)"
   ]
  },
  {
   "cell_type": "code",
   "execution_count": 16,
   "id": "a1e321fe",
   "metadata": {},
   "outputs": [],
   "source": [
    "x = np.linspace(0, 2*np.pi,100)\n",
    "y = func (x)\n",
    "# np.sin(x)"
   ]
  },
  {
   "cell_type": "code",
   "execution_count": 17,
   "id": "9982760e",
   "metadata": {},
   "outputs": [
    {
     "data": {
      "image/png": "[encoded data removed]",
      "text/plain": [
       "<Figure size 648x432 with 1 Axes>"
      ]
     },
     "metadata": {
      "needs_background": "light"
     },
     "output_type": "display_data"
    }
   ],
   "source": [
    "plt.figure(figsize=(9,6))\n",
    "plt.plot(x,y)\n",
    "# plt.plot (n, np.sin(x))\n",
    "plt.title (r\"Grafico funcao $\\sin(\\alpha)$\")\n",
    "plt.xlabel(\"x\")\n",
    "plt.ylabel (\"y\")\n",
    "plt.show()"
   ]
  },
  {
   "cell_type": "code",
   "execution_count": null,
   "id": "f595e2c5",
   "metadata": {},
   "outputs": [],
   "source": []
  },
  {
   "cell_type": "code",
   "execution_count": null,
   "id": "df53d0f9",
   "metadata": {},
   "outputs": [],
   "source": []
  },
  {
   "cell_type": "code",
   "execution_count": null,
   "id": "c3348601",
   "metadata": {},
   "outputs": [],
   "source": []
  }
 ],
 "metadata": {
  "kernelspec": {
   "display_name": "Python 3",
   "language": "python",
   "name": "python3"
  },
  "language_info": {
   "codemirror_mode": {
    "name": "ipython",
    "version": 3
   },
   "file_extension": ".py",
   "mimetype": "text/x-python",
   "name": "python",
   "nbconvert_exporter": "python",
   "pygments_lexer": "ipython3",
   "version": "3.8.8"
  }
 },
 "nbformat": 4,
 "nbformat_minor": 5
}
